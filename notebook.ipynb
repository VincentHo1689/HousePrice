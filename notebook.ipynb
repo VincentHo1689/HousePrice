{
  "cells": [
    {
      "cell_type": "code",
      "execution_count": null,
      "id": "47b50e12",
      "metadata": {
        "id": "47b50e12"
      },
      "outputs": [],
      "source": [
        "# import library\n",
        "import pandas as pd\n",
        "import numpy as np\n",
        "import matplotlib.pyplot as plt\n",
        "import sklearn\n",
        "\n",
        "pd.set_option('display.max_rows', None)\n",
        "pd.set_option('display.max_columns', None)"
      ]
    },
    {
      "cell_type": "code",
      "execution_count": null,
      "id": "95f0a8e1",
      "metadata": {
        "id": "95f0a8e1"
      },
      "outputs": [],
      "source": [
        "# import model\n",
        "from sklearn.tree import DecisionTreeClassifier\n",
        "from sklearn.model_selection import train_test_split"
      ]
    },
    {
      "cell_type": "markdown",
      "id": "d1f64b82",
      "metadata": {
        "id": "d1f64b82"
      },
      "source": [
        "### Load Data"
      ]
    },
    {
      "cell_type": "code",
      "execution_count": null,
      "id": "a75c3a3c",
      "metadata": {
        "id": "a75c3a3c"
      },
      "outputs": [],
      "source": [
        "# load data\n",
        "train = pd.read_csv('data/train.csv')\n",
        "test = pd.read_csv('data/test.csv')"
      ]
    },
    {
      "cell_type": "markdown",
      "id": "3c97c1ce",
      "metadata": {
        "id": "3c97c1ce"
      },
      "source": [
        "### Data Preprocessing"
      ]
    },
    {
      "cell_type": "code",
      "execution_count": null,
      "id": "73930568",
      "metadata": {
        "id": "73930568"
      },
      "outputs": [],
      "source": [
        "# cat column\n",
        "cat_col = train.select_dtypes(include=['object']).columns\n",
        "\n",
        "# NA column\n",
        "na_col = train.columns[train.isna().sum() > 0]\n",
        "\n",
        "# NA column with meaning (from the description)\n",
        "na_col_meaning = [\"Alley\", \"BsmtQual\", \"BsmtCond\", \"BsmtExposure\", \"BsmtFinType1\", \"BsmtFinType2\", \"FireplaceQu\", \"GarageType\", \"GarageFinish\", \"GarageQual\", \"GarageCond\", \"PoolQC\", \"Fence\", \"MiscFeature\"]\n",
        "\n",
        "# NA column meaning - all NA col\n",
        "na_col_no_meaning = [col for col in na_col if col not in na_col_meaning]"
      ]
    },
    {
      "cell_type": "code",
      "execution_count": null,
      "id": "2b953d63",
      "metadata": {
        "id": "2b953d63"
      },
      "outputs": [],
      "source": []
    },
    {
      "cell_type": "markdown",
      "id": "593f766d",
      "metadata": {
        "id": "593f766d"
      },
      "source": []
    },
    {
      "cell_type": "code",
      "execution_count": null,
      "id": "ce3e549f",
      "metadata": {
        "id": "ce3e549f"
      },
      "outputs": [],
      "source": [
        "x_train, x_val, y_train, y_val = train_test_split(train.drop(columns=['SalePrice']), train['SalePrice'], test_size=0.2, random_state=42)"
      ]
    },
    {
      "cell_type": "code",
      "execution_count": null,
      "id": "9c31bf31",
      "metadata": {
        "id": "9c31bf31"
      },
      "outputs": [],
      "source": []
    }
  ],
  "metadata": {
    "kernelspec": {
      "display_name": "ipynb_env (3.12.11)",
      "language": "python",
      "name": "python3"
    },
    "language_info": {
      "codemirror_mode": {
        "name": "ipython",
        "version": 3
      },
      "file_extension": ".py",
      "mimetype": "text/x-python",
      "name": "python",
      "nbconvert_exporter": "python",
      "pygments_lexer": "ipython3",
      "version": "3.12.11"
    },
    "colab": {
      "provenance": []
    }
  },
  "nbformat": 4,
  "nbformat_minor": 5
}