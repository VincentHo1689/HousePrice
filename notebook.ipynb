{
  "cells": [
    {
      "cell_type": "code",
      "execution_count": 128,
      "id": "47b50e12",
      "metadata": {
        "id": "47b50e12"
      },
      "outputs": [],
      "source": [
        "# import library\n",
        "import pandas as pd\n",
        "import numpy as np\n",
        "import matplotlib.pyplot as plt\n",
        "import sklearn\n",
        "\n",
        "pd.set_option('display.max_rows', None)\n",
        "pd.set_option('display.max_columns', None)"
      ]
    },
    {
      "cell_type": "code",
      "execution_count": 129,
      "id": "95f0a8e1",
      "metadata": {
        "id": "95f0a8e1"
      },
      "outputs": [],
      "source": [
        "# import model\n",
        "from sklearn.tree import DecisionTreeClassifier\n",
        "from sklearn.model_selection import train_test_split"
      ]
    },
    {
      "cell_type": "markdown",
      "id": "d1f64b82",
      "metadata": {
        "id": "d1f64b82"
      },
      "source": [
        "### Load Data"
      ]
    },
    {
      "cell_type": "code",
      "execution_count": 130,
      "id": "a75c3a3c",
      "metadata": {
        "id": "a75c3a3c"
      },
      "outputs": [],
      "source": [
        "# load data\n",
        "train = pd.read_csv('data/train.csv')\n",
        "test = pd.read_csv('data/test.csv')"
      ]
    },
    {
      "cell_type": "markdown",
      "id": "3c97c1ce",
      "metadata": {
        "id": "3c97c1ce"
      },
      "source": [
        "### Data Preprocessing"
      ]
    },
    {
      "cell_type": "code",
      "execution_count": 131,
      "id": "73930568",
      "metadata": {
        "id": "73930568"
      },
      "outputs": [],
      "source": [
        "# cat column\n",
        "cat_col = train.select_dtypes(include=['object']).columns\n",
        "\n",
        "# NA column\n",
        "na_col = train.columns[train.isna().sum() > 0]\n",
        "\n",
        "# NA column with meaning (from the description)\n",
        "na_col_meaning = [\"Alley\", \"BsmtQual\", \"BsmtCond\", \"BsmtExposure\", \"BsmtFinType1\", \"BsmtFinType2\", \"FireplaceQu\", \"GarageType\", \"GarageFinish\", \"GarageQual\", \"GarageCond\", \"PoolQC\", \"Fence\", \"MiscFeature\"]\n",
        "\n",
        "# NA column meaning - all NA col\n",
        "na_col_no_meaning = [col for col in na_col if col not in na_col_meaning]"
      ]
    },
    {
      "cell_type": "code",
      "execution_count": 132,
      "id": "a3f7c76b",
      "metadata": {},
      "outputs": [],
      "source": [
        "# drop Utilities column (only 1 value)\n",
        "train.drop(columns=[\"Utilities\"], inplace=True)\n",
        "test.drop(columns=[\"Utilities\"], inplace=True)"
      ]
    },
    {
      "cell_type": "code",
      "execution_count": 133,
      "id": "2b953d63",
      "metadata": {
        "id": "2b953d63"
      },
      "outputs": [],
      "source": [
        "# by hand split categorical columns into 3 types\n",
        "ordinal_cols = [\"LotShape\",\"LandContour\",\"LandSlope\",\"HouseStyle\",\"ExterQual\",\"ExterCond\",\"BsmtQual\",\"BsmtCond\",\"BsmtExposure\",\"BsmtFinType1\",\"BsmtFinType2\",\"HeatingQC\",\"KitchenQual\",\"Functional\",\"FireplaceQu\",\"GarageFinish\",\"GarageQual\",\"GarageCond\",\"PavedDrive\",\"PoolQC\",\"Fence\"]\n",
        "cat_cols = [\"Street\",\"Alley\",\"CentralAir\",\"BldgType\",\"SaleType\",\"SaleCondition\",\"MSSubClass\",\"MSZoning\",\"Neighborhood\",\"Condition1\",\"Condition2\",\"LotConfig\",\"RoofStyle\",\"RoofMatl\",\"Exterior1st\",\"Exterior2nd\",\"MasVnrType\",\"Foundation\",\"Heating\",\"Electrical\",\"GarageType\",\"MiscFeature\"]\n",
        "\n",
        "threshold = 4 \n",
        "one_hot_cols = []\n",
        "freq_cols = []\n",
        "for col in cat_cols:\n",
        "    if col in train.columns and train[col].nunique() <= threshold:\n",
        "        one_hot_cols.append(col)\n",
        "    else:\n",
        "        freq_cols.append(col)"
      ]
    },
    {
      "cell_type": "code",
      "execution_count": 134,
      "id": "0e739f74",
      "metadata": {},
      "outputs": [],
      "source": [
        "categorical_na = ['MasVnrType', 'Electrical']\n",
        "from sklearn.impute import SimpleImputer\n",
        "if categorical_na:\n",
        "    cat_imputer = SimpleImputer(strategy='most_frequent')\n",
        "    train[categorical_na] = cat_imputer.fit_transform(train[categorical_na])\n",
        "    test[categorical_na] = cat_imputer.transform(test[categorical_na])"
      ]
    },
    {
      "cell_type": "code",
      "execution_count": 135,
      "id": "f0c3744b",
      "metadata": {},
      "outputs": [],
      "source": [
        "from sklearn.preprocessing import OrdinalEncoder\n",
        "\n",
        "# define categories in order (best to worst, NA last if present)\n",
        "ordinal_categories = [\n",
        "    ['Reg', 'IR1', 'IR2', 'IR3'],  # LotShape\n",
        "    ['Lvl', 'Bnk', 'HLS', 'Low'],  # LandContour\n",
        "    # ['AllPub', 'NoSewr', 'NoSeWa', 'ELO'],  # Utilities\n",
        "    ['Gtl', 'Mod', 'Sev'],  # LandSlope\n",
        "    ['1Story', '1.5Fin', '1.5Unf', '2Story', '2.5Fin', '2.5Unf', 'SFoyer', 'SLvl'],  # HouseStyle\n",
        "    ['Ex', 'Gd', 'TA', 'Fa', 'Po'],  # ExterQual\n",
        "    ['Ex', 'Gd', 'TA', 'Fa', 'Po'],  # ExterCond\n",
        "    ['Ex', 'Gd', 'TA', 'Fa', 'Po', 'NA'],  # BsmtQual\n",
        "    ['Ex', 'Gd', 'TA', 'Fa', 'Po', 'NA'],  # BsmtCond\n",
        "    ['Gd', 'Av', 'Mn', 'No', 'NA'],  # BsmtExposure\n",
        "    ['GLQ', 'ALQ', 'BLQ', 'Rec', 'LwQ', 'Unf', 'NA'],  # BsmtFinType1\n",
        "    ['GLQ', 'ALQ', 'BLQ', 'Rec', 'LwQ', 'Unf', 'NA'],  # BsmtFinType2\n",
        "    ['Ex', 'Gd', 'TA', 'Fa', 'Po'],  # HeatingQC\n",
        "    ['Ex', 'Gd', 'TA', 'Fa', 'Po'],  # KitchenQual\n",
        "    ['Typ', 'Min1', 'Min2', 'Mod', 'Maj1', 'Maj2', 'Sev', 'Sal'],  # Functional\n",
        "    ['Ex', 'Gd', 'TA', 'Fa', 'Po', 'NA'],  # FireplaceQu\n",
        "    ['Fin', 'RFn', 'Unf', 'NA'],  # GarageFinish\n",
        "    ['Ex', 'Gd', 'TA', 'Fa', 'Po', 'NA'],  # GarageQual\n",
        "    ['Ex', 'Gd', 'TA', 'Fa', 'Po', 'NA'],  # GarageCond\n",
        "    ['Y', 'P', 'N'],  # PavedDrive\n",
        "    ['Ex', 'Gd', 'TA', 'Fa', 'NA'],  # PoolQC\n",
        "    ['GdPrv', 'MnPrv', 'GdWo', 'MnWw', 'NA']  # Fence\n",
        "]\n",
        "\n",
        "# fit encoder on train (handle NA by filling with 'NA' first)\n",
        "for col in ordinal_cols:\n",
        "    if col in train.columns:\n",
        "        cat_list = ordinal_categories[ordinal_cols.index(col)]\n",
        "        if 'NA' in cat_list:\n",
        "            train[col] = train[col].fillna('NA')\n",
        "            test[col] = test[col].fillna('NA')\n",
        "        else:\n",
        "            mode = train[col].mode()[0]\n",
        "            train[col] = train[col].fillna(mode)\n",
        "            test[col] = test[col].fillna(mode)\n",
        "\n",
        "encoder = OrdinalEncoder(categories=ordinal_categories)\n",
        "train[ordinal_cols] = encoder.fit_transform(train[ordinal_cols])\n",
        "test[ordinal_cols] = encoder.transform(test[ordinal_cols])"
      ]
    },
    {
      "cell_type": "code",
      "execution_count": 136,
      "id": "85d8636e",
      "metadata": {},
      "outputs": [
        {
          "name": "stdout",
          "output_type": "stream",
          "text": [
            "train shape after encoding: (1460, 83)\n",
            "test shape after encoding: (1459, 83)\n"
          ]
        }
      ],
      "source": [
        "train = pd.get_dummies(train, columns=one_hot_cols, drop_first=True)\n",
        "test = pd.get_dummies(test, columns=one_hot_cols, drop_first=True)\n",
        "\n",
        "missing_cols = set(train.columns) - set(test.columns)\n",
        "for col in missing_cols:\n",
        "    test[col] = 0\n",
        "extra_cols = set(test.columns) - set(train.columns)\n",
        "test = test.drop(columns=extra_cols)\n",
        "test = test[train.columns]\n",
        "\n",
        "# align test columns to train\n",
        "missing_cols = set(train.columns) - set(test.columns)\n",
        "for col in missing_cols:\n",
        "    test[col] = 0\n",
        "extra_cols = set(test.columns) - set(train.columns)\n",
        "test = test.drop(columns=extra_cols)\n",
        "\n",
        "# frequency encode frequency_cols\n",
        "for col in freq_cols:\n",
        "    if col in train.columns:\n",
        "        freq_map = train[col].value_counts(normalize=True)\n",
        "        train[col + '_freq'] = train[col].map(freq_map)\n",
        "        test[col + '_freq'] = test[col].map(freq_map).fillna(0)\n",
        "        train.drop(columns=[col], inplace=True)\n",
        "        test.drop(columns=[col], inplace=True)\n",
        "\n",
        "# example: check shape\n",
        "print(\"train shape after encoding:\", train.shape)\n",
        "print(\"test shape after encoding:\", test.shape)"
      ]
    },
    {
      "cell_type": "code",
      "execution_count": 137,
      "id": "ce3e549f",
      "metadata": {
        "id": "ce3e549f"
      },
      "outputs": [],
      "source": [
        "from sklearn.impute import KNNImputer\n",
        "\n",
        "knn_imputer = KNNImputer(n_neighbors=5)  # adjust k as needed\n",
        "train = knn_imputer.fit_transform(train)\n",
        "test = knn_imputer.transform(test)"
      ]
    },
    {
      "cell_type": "code",
      "execution_count": null,
      "id": "9c31bf31",
      "metadata": {
        "id": "9c31bf31"
      },
      "outputs": [],
      "source": []
    }
  ],
  "metadata": {
    "colab": {
      "provenance": []
    },
    "kernelspec": {
      "display_name": "ipynb_env (3.12.11)",
      "language": "python",
      "name": "python3"
    },
    "language_info": {
      "codemirror_mode": {
        "name": "ipython",
        "version": 3
      },
      "file_extension": ".py",
      "mimetype": "text/x-python",
      "name": "python",
      "nbconvert_exporter": "python",
      "pygments_lexer": "ipython3",
      "version": "3.12.11"
    }
  },
  "nbformat": 4,
  "nbformat_minor": 5
}
